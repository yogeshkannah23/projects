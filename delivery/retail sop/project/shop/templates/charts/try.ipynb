{
 "cells": [
  {
   "cell_type": "code",
   "execution_count": 1,
   "metadata": {},
   "outputs": [
    {
     "name": "stdout",
     "output_type": "stream",
     "text": [
      " Volume in drive C is OS\n",
      " Volume Serial Number is 0C23-978C\n",
      "\n",
      " Directory of c:\\Users\\kanni\\OneDrive\\Desktop\\Projects\\delivery\\retail sop\\project\\shop\\templates\\charts\n",
      "\n",
      "20-09-2024  22:20    <DIR>          .\n",
      "15-09-2024  18:41    <DIR>          ..\n",
      "15-09-2024  21:08             2,390 graph.html\n",
      "15-09-2024  18:41             1,343 graph_filter.html\n",
      "08-09-2024  16:38             2,145 pie_chart.html\n",
      "20-09-2024  22:13             2,395 pie_chart_filter.html\n",
      "20-09-2024  22:21               485 try.ipynb\n",
      "               5 File(s)          8,758 bytes\n",
      "               2 Dir(s)  56,927,768,576 bytes free\n"
     ]
    }
   ],
   "source": [
    "ls"
   ]
  },
  {
   "cell_type": "code",
   "execution_count": 3,
   "metadata": {},
   "outputs": [],
   "source": [
    "import pandas as pd"
   ]
  },
  {
   "cell_type": "code",
   "execution_count": 11,
   "metadata": {},
   "outputs": [],
   "source": [
    "df = pd.read_csv(r\"C:\\Users\\kanni\\Downloads\\archive\\result.csv\")"
   ]
  },
  {
   "cell_type": "code",
   "execution_count": 16,
   "metadata": {},
   "outputs": [
    {
     "data": {
      "text/plain": [
       "array(['Electronics', 'Toys', 'Clothing', 'Home & Garden', 'Sports'],\n",
       "      dtype=object)"
      ]
     },
     "execution_count": 16,
     "metadata": {},
     "output_type": "execute_result"
    }
   ],
   "source": [
    "df['category'].unique()"
   ]
  },
  {
   "cell_type": "code",
   "execution_count": 24,
   "metadata": {},
   "outputs": [
    {
     "name": "stdout",
     "output_type": "stream",
     "text": [
      "  invoice_no customer_id  gender  age       category  quantity       price  \\\n",
      "0       INV1       CUST1  Female   38       Clothing         9  135.574245   \n",
      "1       INV2       CUST2    Male   40         Sports         1   78.077021   \n",
      "2       INV3       CUST3  Female   52       Clothing         9  484.126509   \n",
      "3       INV4       CUST4  Female   23  Home & Garden         3  411.528891   \n",
      "4       INV5       CUST5    Male   54  Home & Garden         5  222.166520   \n",
      "\n",
      "  payment_method invoice_date      shopping_mall  \n",
      "0     Debit Card   2023-03-14  Emaar Square Mall  \n",
      "1           Cash   2024-04-30       Zorlu Center  \n",
      "2    Credit Card   2024-07-19             Kanyon  \n",
      "3     Debit Card   2023-12-31       Zorlu Center  \n",
      "4    Credit Card   2023-01-24       Istinye Park  \n"
     ]
    }
   ],
   "source": [
    "import pandas as pd\n",
    "import numpy as np\n",
    "import random\n",
    "import datetime\n",
    "\n",
    "# Create a DataFrame with the desired columns and initial values\n",
    "data = {\n",
    "    \"invoice_no\": [],\n",
    "    \"customer_id\": [],\n",
    "    \"gender\": [],\n",
    "    \"age\": [],\n",
    "    \"category\": [],\n",
    "    \"quantity\": [],\n",
    "    \"price\": [],\n",
    "    \"payment_method\": [],\n",
    "    \"invoice_date\": [],\n",
    "    \"shopping_mall\": []\n",
    "}\n",
    "\n",
    "# Generate random data for the columns\n",
    "for i in range(30000):\n",
    "    data[\"invoice_no\"].append(f\"INV{i+1}\")\n",
    "    data[\"customer_id\"].append(f\"CUST{i+1}\")\n",
    "    data[\"gender\"].append(np.random.choice([\"Male\", \"Female\"], p=[0.6, 0.4]))  # Uneven distribution favoring males\n",
    "    data[\"age\"].append(np.random.randint(18, 65))\n",
    "    data[\"category\"].append(np.random.choice(['Electronics', 'Toys', 'Clothing', 'Home & Garden', 'Sports']))\n",
    "    data[\"quantity\"].append(np.random.randint(1, 10))\n",
    "    data[\"price\"].append(np.random.uniform(10, 500))\n",
    "    data[\"payment_method\"].append(np.random.choice([\"Credit Card\", \"Debit Card\", \"Cash\"]))\n",
    "    data[\"invoice_date\"].append(pd.to_datetime(\"2023-01-01\") + pd.DateOffset(days=np.random.randint(0, (datetime.date.today() - datetime.date(2023, 1, 1)).days)))\n",
    "    data[\"shopping_mall\"].append(np.random.choice(['Metrocity', 'Istinye Park', 'Viaport Outlet', 'Kanyon',\n",
    "       'Emaar Square Mall', 'Mall of Istanbul', 'Zorlu Center',\n",
    "       'Forum Istanbul', 'Metropol AVM', 'Cevahir AVM']))\n",
    "\n",
    "# Create the DataFrame from the generated data\n",
    "df = pd.DataFrame(data)\n",
    "\n",
    "# Print the first few rows of the DataFrame\n",
    "print(df.head())"
   ]
  },
  {
   "cell_type": "code",
   "execution_count": 25,
   "metadata": {},
   "outputs": [
    {
     "data": {
      "text/plain": [
       "shopping_mall\n",
       "Mall of Istanbul     3097\n",
       "Metrocity            3063\n",
       "Forum Istanbul       3037\n",
       "Viaport Outlet       3027\n",
       "Emaar Square Mall    3013\n",
       "Metropol AVM         2983\n",
       "Zorlu Center         2962\n",
       "Istinye Park         2954\n",
       "Cevahir AVM          2947\n",
       "Kanyon               2917\n",
       "Name: count, dtype: int64"
      ]
     },
     "execution_count": 25,
     "metadata": {},
     "output_type": "execute_result"
    }
   ],
   "source": [
    "df['shopping_mall'].value_counts()"
   ]
  },
  {
   "cell_type": "code",
   "execution_count": 26,
   "metadata": {},
   "outputs": [],
   "source": [
    "df.to_csv('output_final.csv')"
   ]
  },
  {
   "cell_type": "code",
   "execution_count": 33,
   "metadata": {},
   "outputs": [
    {
     "name": "stdout",
     "output_type": "stream",
     "text": [
      "1663\n"
     ]
    },
    {
     "data": {
      "text/plain": [
       "gender\n",
       "Male      1026\n",
       "Female     637\n",
       "Name: count, dtype: int64"
      ]
     },
     "execution_count": 33,
     "metadata": {},
     "output_type": "execute_result"
    }
   ],
   "source": [
    "from datetime import datetime\n",
    "df['invoice_date'] = pd.to_datetime(df['invoice_date'],dayfirst=True)\n",
    "from_date = datetime.strptime('2024-03-01','%Y-%m-%d')\n",
    "to_date = datetime.strptime('2024-04-04','%Y-%m-%d')\n",
    "tf = df[(df['invoice_date'] >= from_date) & (df['invoice_date'] < to_date) ]\n",
    "print(len(tf))\n",
    "tf['gender'].value_counts()"
   ]
  },
  {
   "cell_type": "code",
   "execution_count": 35,
   "metadata": {},
   "outputs": [
    {
     "name": "stdout",
     "output_type": "stream",
     "text": [
      "2359\n"
     ]
    },
    {
     "data": {
      "text/plain": [
       "gender\n",
       "Male      1412\n",
       "Female     947\n",
       "Name: count, dtype: int64"
      ]
     },
     "execution_count": 35,
     "metadata": {},
     "output_type": "execute_result"
    }
   ],
   "source": [
    "df['invoice_date'] = pd.to_datetime(df['invoice_date'],dayfirst=True)\n",
    "from_date = datetime.strptime('2024-08-01','%Y-%m-%d')\n",
    "to_date = datetime.strptime('2024-09-30','%Y-%m-%d')\n",
    "tf = df[(df['invoice_date'] >= from_date) & (df['invoice_date'] < to_date) ]\n",
    "print(len(tf))\n",
    "tf['gender'].value_counts()"
   ]
  },
  {
   "cell_type": "code",
   "execution_count": null,
   "metadata": {},
   "outputs": [],
   "source": [
    "df.to"
   ]
  }
 ],
 "metadata": {
  "kernelspec": {
   "display_name": "Python 3",
   "language": "python",
   "name": "python3"
  },
  "language_info": {
   "codemirror_mode": {
    "name": "ipython",
    "version": 3
   },
   "file_extension": ".py",
   "mimetype": "text/x-python",
   "name": "python",
   "nbconvert_exporter": "python",
   "pygments_lexer": "ipython3",
   "version": "3.12.4"
  }
 },
 "nbformat": 4,
 "nbformat_minor": 2
}
